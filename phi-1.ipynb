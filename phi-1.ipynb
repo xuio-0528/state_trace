{
 "cells": [
  {
   "cell_type": "code",
   "execution_count": 3,
   "metadata": {},
   "outputs": [
    {
     "name": "stderr",
     "output_type": "stream",
     "text": [
      "/root/anaconda3/envs/code/lib/python3.10/site-packages/tqdm/auto.py:21: TqdmWarning: IProgress not found. Please update jupyter and ipywidgets. See https://ipywidgets.readthedocs.io/en/stable/user_install.html\n",
      "  from .autonotebook import tqdm as notebook_tqdm\n",
      "Found cached dataset parquet (/root/.cache/huggingface/datasets/deepmind___parquet/deepmind--code_contests-c83aff5e5b92def4/0.0.0/14a00e99c0d15a23649d0db8944380ac81082d4b021f398733dd84f3a6c569a7)\n",
      "100%|██████████| 3/3 [00:00<00:00, 31.80it/s]\n"
     ]
    }
   ],
   "source": [
    "from datasets import load_dataset\n",
    "\n",
    "data = load_dataset('deepmind/code_contests')"
   ]
  },
  {
   "cell_type": "code",
   "execution_count": 2,
   "metadata": {},
   "outputs": [
    {
     "data": {
      "text/plain": [
       "DatasetDict({\n",
       "    train: Dataset({\n",
       "        features: ['content', 'role'],\n",
       "        num_rows: 9\n",
       "    })\n",
       "})"
      ]
     },
     "execution_count": 2,
     "metadata": {},
     "output_type": "execute_result"
    }
   ],
   "source": [
    "data"
   ]
  },
  {
   "cell_type": "code",
   "execution_count": 6,
   "metadata": {},
   "outputs": [
    {
     "data": {
      "text/plain": [
       "['My name is Phi. I am an AI programming assistant.',\n",
       " 'What is a symbol?',\n",
       " 'A symbol is a sign or device that represents something else. For example, a red traffic light means stop, the American flag represents the original thirteen states and the fifty states of today, and a red cross means a hospital or medical help. Many other symbols are used to advertise products, tell the kinds of stores, show places on road maps, illustrate ideas in cartoons or pictures, and so forth.',\n",
       " 'What are some examples of symbols that represent ideas or concepts?',\n",
       " 'Two hands clasped together show cooperation. Two hands of the same person gripped overhead show victory. A fist means power or protest.',\n",
       " 'What are number symbols?',\n",
       " 'Number symbols represent an amount or quantity. For example, the number of toes an average person has on one foot can be represented by the number 5. This idea or concept can also be shown as 3 + 2, 1 ⨯ 5, 6 - 1, 20 ÷ 4, or by many other numerals. A numeral is a symbol used to denote a number.',\n",
       " 'What is the Hindu-Arabic system?',\n",
       " 'The Hindu-Arabic system is a decimal number system that uses ten symbols: 0, 1, 2, 3, 4, 5, 6, 7, 8, 9. These symbols can be arranged to represent any number. The system was developed by the Hindus and brought to the Europeans by the Arabs, hence the name Hindu-Arabic system.']"
      ]
     },
     "execution_count": 6,
     "metadata": {},
     "output_type": "execute_result"
    }
   ],
   "source": [
    "data['train']['content']"
   ]
  },
  {
   "cell_type": "code",
   "execution_count": 29,
   "metadata": {},
   "outputs": [
    {
     "name": "stdout",
     "output_type": "stream",
     "text": [
      "\\n in\\n\\n\\n in p. = 6 + 1\n",
      "\n",
      " in\n",
      "\n",
      "\n",
      " in p. = 6 + 1\n"
     ]
    }
   ],
   "source": [
    "import pandas as pd\n",
    "\n",
    "data = pd.read_csv('./pred/second_gen_large.tsv', sep='\\t')\n",
    "print(data.iloc[0]['completion'])\n",
    "print(data.iloc[0]['completion'].replace('\\\\n', '\\n').replace('\\\\t', '\\t'))"
   ]
  },
  {
   "cell_type": "code",
   "execution_count": 12,
   "metadata": {},
   "outputs": [
    {
     "name": "stdout",
     "output_type": "stream",
     "text": [
      "powers=[1]\n",
      "for i in range(40):\n",
      "    powers.append(powers[-1]*2)\n",
      "for _ in range(input()):\n",
      "    n,m=map(int,raw_input().split())\n",
      "    if m<n:\n",
      "        print 0\n",
      "        continue\n",
      "    dif=m-n\n",
      "    binary=bin(n)[2:]\n",
      "    if n==0:\n",
      "        binary='0'*37\n",
      "    binary='0'*(37-len(binary))+binary\n",
      "    ans=powers[35]\n",
      "    start=36\n",
      "    while start!=-1:\n",
      "        g=powers[start]\n",
      "        if binary[36-start]=='1':\n",
      "            start-=1\n",
      "            continue\n",
      "        if g>dif:\n",
      "            ans=min(ans,g)\n",
      "            start-=1\n",
      "            continue\n",
      "        else:\n",
      "            for j in range(start-1,-1,-1):\n",
      "                if binary[36-j]=='0':\n",
      "                    \n",
      "                    if g+powers[j]>dif:\n",
      "                        ans=min(ans,g+powers[j])\n",
      "                        \n",
      "                    else:\n",
      "                        g+=powers[j]\n",
      "            if g>dif:\n",
      "                ans=min(ans,g)\n",
      "            start-=1\n",
      "    print ans\n",
      "\n",
      "\n"
     ]
    }
   ],
   "source": [
    "import jsonlines\n",
    "\n",
    "valid_jsonl = []            \n",
    "with jsonlines.open('../baseline/data/codecontest/codecontest_valid.jsonl') as f:\n",
    "    for line in f:\n",
    "        valid_jsonl.append(line)\n",
    "print(valid_jsonl[22]['solution'].encode('utf-8').decode('utf-8'))"
   ]
  },
  {
   "cell_type": "code",
   "execution_count": 10,
   "metadata": {},
   "outputs": [
    {
     "name": "stdout",
     "output_type": "stream",
     "text": [
      "You are given an integer n. Find any string s of length n consisting only of English lowercase letters such that each non-empty substring of s occurs in s an odd number of times. If there are multiple such strings, output any. It can be shown that such string always exists under the given constraints.\n",
      "\n",
      "A string a is a substring of a string b if a can be obtained from b by deletion of several (possibly, zero or all) characters from the beginning and several (possibly, zero or all) characters from the end.\n",
      "\n",
      "Input\n",
      "\n",
      "The first line contains a single integer t (1 ≤ t ≤ 500) — the number of test cases.\n",
      "\n",
      "The first line of each test case contains a single integer n (1 ≤ n ≤ 10^5).\n",
      "\n",
      "It is guaranteed that the sum of n over all test cases doesn't exceed 3 ⋅ 10^5.\n",
      "\n",
      "Output\n",
      "\n",
      "For each test case, print a single line containing the string s. If there are multiple such strings, output any. It can be shown that such string always exists under the given constraints.\n",
      "\n",
      "Example\n",
      "\n",
      "Input\n",
      "\n",
      "\n",
      "4\n",
      "3\n",
      "5\n",
      "9\n",
      "19\n",
      "\n",
      "\n",
      "Output\n",
      "\n",
      "\n",
      "abc\n",
      "diane\n",
      "bbcaabbba\n",
      "youarethecutestuwuu\n",
      "\n",
      "Note\n",
      "\n",
      "In the first test case, each substring of \"abc\" occurs exactly once.\n",
      "\n",
      "In the third test case, each substring of \"bbcaabbba\" occurs an odd number of times. In particular, \"b\" occurs 5 times, \"a\" and \"bb\" occur 3 times each, and each of the remaining substrings occurs exactly once.\n"
     ]
    }
   ],
   "source": []
  },
  {
   "cell_type": "code",
   "execution_count": null,
   "metadata": {},
   "outputs": [],
   "source": []
  }
 ],
 "metadata": {
  "kernelspec": {
   "display_name": "Python 3",
   "language": "python",
   "name": "python3"
  },
  "language_info": {
   "codemirror_mode": {
    "name": "ipython",
    "version": 3
   },
   "file_extension": ".py",
   "mimetype": "text/x-python",
   "name": "python",
   "nbconvert_exporter": "python",
   "pygments_lexer": "ipython3",
   "version": "3.10.12"
  },
  "orig_nbformat": 4
 },
 "nbformat": 4,
 "nbformat_minor": 2
}
