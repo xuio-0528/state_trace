{
 "cells": [
  {
   "cell_type": "code",
   "execution_count": 1,
   "metadata": {},
   "outputs": [
    {
     "name": "stderr",
     "output_type": "stream",
     "text": [
      "/root/anaconda3/envs/code/lib/python3.10/site-packages/tqdm/auto.py:21: TqdmWarning: IProgress not found. Please update jupyter and ipywidgets. See https://ipywidgets.readthedocs.io/en/stable/user_install.html\n",
      "  from .autonotebook import tqdm as notebook_tqdm\n",
      "Found cached dataset parquet (/root/.cache/huggingface/datasets/deepmind___parquet/deepmind--code_contests-c83aff5e5b92def4/0.0.0/14a00e99c0d15a23649d0db8944380ac81082d4b021f398733dd84f3a6c569a7)\n",
      "100%|██████████| 3/3 [00:00<00:00, 198.59it/s]\n"
     ]
    }
   ],
   "source": [
    "from datasets import load_dataset\n",
    "\n",
    "data = load_dataset('deepmind/code_contests')['valid']\n",
    "# for idx, i in enumerate(data[4]['solutions']['language']):\n",
    "#     if i == 1:\n",
    "#         print(idx)"
   ]
  },
  {
   "cell_type": "code",
   "execution_count": 2,
   "metadata": {},
   "outputs": [],
   "source": [
    "import lib2to3\n",
    "from lib2to3 import refactor\n",
    "\n",
    "def refactor_code(code):\n",
    "    try:\n",
    "        # 코드 변환기 생성\n",
    "        refactor_tool = refactor.RefactoringTool(refactor.get_fixers_from_package('lib2to3.fixes'))\n",
    "        \n",
    "        # 코드 변환 적용\n",
    "        transformed_code = refactor_tool.refactor_string(code, \"<input>\")\n",
    "        \n",
    "        # 변환된 코드를 문자열로 얻기 위해 다시 빌드\n",
    "        result = str(transformed_code)\n",
    "        \n",
    "        return result\n",
    "    except Exception as e:\n",
    "        print(\"Error during code refactoring:\", e)\n",
    "        return code\n"
   ]
  },
  {
   "cell_type": "code",
   "execution_count": 5,
   "metadata": {},
   "outputs": [
    {
     "name": "stdout",
     "output_type": "stream",
     "text": [
      "[2023-07-19 07:07:53,440] [INFO] [real_accelerator.py:110:get_accelerator] Setting ds_accelerator to cuda (auto detect)\n"
     ]
    },
    {
     "name": "stderr",
     "output_type": "stream",
     "text": [
      "Found cached dataset parquet (/root/.cache/huggingface/datasets/deepmind___parquet/deepmind--code_contests-c83aff5e5b92def4/0.0.0/14a00e99c0d15a23649d0db8944380ac81082d4b021f398733dd84f3a6c569a7)\n",
      "100%|██████████| 3/3 [00:00<00:00, 219.20it/s]\n"
     ]
    }
   ],
   "source": [
    "import jsonlines\n",
    "from datasets import load_dataset\n",
    "from evaluate import load\n",
    "import os\n",
    "from tqdm import tqdm\n",
    "from string import Template\n",
    "import json\n",
    "\n",
    "os.environ[\"HF_ALLOW_CODE_EVAL\"] = \"1\"\n",
    "# 기존 template\n",
    "CANDIDATE_TEMPLATE = Template(\n",
    "\"\"\"\n",
    "import sys\n",
    "from io import StringIO\n",
    "\n",
    "completion = \\\"\\\"\\\"${COMPLETION}\\\"\\\"\\\"\n",
    "\n",
    "def ENTRY_POINT(input_str):\n",
    "    stdin = StringIO(input_str)\n",
    "    stdout = StringIO()\n",
    "\n",
    "    sys.stdin = stdin\n",
    "    sys.stdout = stdout\n",
    "    exec(\n",
    "        completion,\n",
    "        {\n",
    "            __name__: \"__main__\",\n",
    "            \"sys\": sys,\n",
    "            \"stdin\": sys.stdin,\n",
    "            \"stdout\": sys.stdout,\n",
    "        },\n",
    "    )\n",
    "\n",
    "    return stdout.getvalue()\n",
    "\"\"\"\n",
    "    )\n",
    "# 기존 template\n",
    "TEST_TEMPLATE = Template(\"\"\"assert ENTRY_POINT('''${INPUT}''') == '''${OUTPUT}'''\"\"\")\n",
    "\n",
    "\n",
    "solution = load_dataset('deepmind/code_contests')['valid']\n",
    "\n",
    "# test case를 dataset에서 가져와서 dict로 만들어 task_id 별로 input과 output list를 만들어주었습니다.\n",
    "# 진행을 하면, {'input': ['2\\n17\\n5\\n','2\\n17\\n5\\n', ... 'output' : ... 이렇게 됩니다.}\n",
    "test_dicts = {}\n",
    "for task_id in range(len(solution)):\n",
    "    test_dicts[task_id] = {'input' : [], 'output':[]}\n",
    "    for test_type in [\"public_tests\", \"private_tests\", \"generated_tests\"]:\n",
    "        input_seq = solution[task_id][test_type]['input']\n",
    "        output_seq = solution[task_id][test_type]['output']\n",
    "        test_dicts[task_id][\"input\"].extend(input_seq)\n",
    "        test_dicts[task_id][\"output\"].extend(output_seq)        \n",
    "\n",
    "pred_jsonl_file = './pred/first_gen_copy.jsonl'\n",
    "code_eval = load('code_eval')\n",
    "\n",
    "# 에러로 인해 하나의 sample에서만 진행하고 있습니다.\n",
    "# completion = solution[4]['solutions']['solution'][10]는 일부러 정답 코드를 test 해보려고 작성했습니다.\n",
    "with open('./pred/first_gen_eval.jsonl', encoding= \"utf-8\",mode=\"w\") as writer:        \n",
    "    with jsonlines.open(pred_jsonl_file) as pred_reader:\n",
    "        for pred_item in pred_reader:\n",
    "            epoch = int(pred_item['epoch'])\n",
    "            task_id = int(pred_item['task_id'])\n",
    "            prompt = pred_item['prompt']\n",
    "            # completion = pred_item['completion'].replace('\\\\n', '\\n')\n",
    "            completion = solution[4]['solutions']['solution'][10]\n",
    "            \n",
    "            # 해당 함수는 python 2.7로 생성된 함수를 python 3.0으로 전환해주는 함수입니다.\n",
    "            completion = refactor_code(completion)\n",
    "            \n",
    "            # 여기서 대체를 진행합니다.\n",
    "            candidate = CANDIDATE_TEMPLATE.substitute(\n",
    "                        {\"COMPLETION\": completion}\n",
    "                    )\n",
    "            # 이래는 [\"assert ENTRY_POINT('''2\\n17\\n5\\n''') == '''2 16\\n2 4\\n'''\", ]로 정상적으로 진행됩니다.\n",
    "            test_case = []\n",
    "            for idx in range(len(test_dicts[task_id]['input'])):                \n",
    "                input_seq, output_seq = test_dicts[task_id]['input'][idx].replace('\\\\n', '\\n'), test_dicts[task_id]['output'][idx].replace('\\\\n', '\\n')\n",
    "                test_case.append(TEST_TEMPLATE.substitute(\n",
    "                    {\"INPUT\": input_seq, \"OUTPUT\": output_seq}\n",
    "                ))\n",
    "            # pass_at_k, results = code_eval.compute(references=test_case, predictions=[[candidate] for _ in range(len(test_case))])\n",
    "            \n",
    "            # 단일 케이스에 대해서만 진행해주기 위해 이런 식으로 했습니다.\n",
    "            pass_at_k, results = code_eval.compute(references=[test_case[0]], predictions=[[candidate]])\n",
    "            line = {'epoch' : str(epoch), 'task_id' : str(task_id), 'completion' : completion.replace('\\n', '\\\\n'), 'prompt' : prompt, 'pass_at_1' : pass_at_k['pass@1']}\n",
    "            writer.write(json.dumps(line) + \"\\n\")"
   ]
  },
  {
   "cell_type": "code",
   "execution_count": 6,
   "metadata": {},
   "outputs": [
    {
     "name": "stdout",
     "output_type": "stream",
     "text": [
      "defaultdict(<class 'list'>, {0: [(0, {'task_id': 0, 'passed': False, 'result': 'timed out', 'completion_id': 0})]})\n"
     ]
    }
   ],
   "source": [
    "print(results)"
   ]
  },
  {
   "cell_type": "code",
   "execution_count": 5,
   "metadata": {},
   "outputs": [
    {
     "name": "stdout",
     "output_type": "stream",
     "text": [
      "'''input\n",
      "2\n",
      "17\n",
      "5\n",
      "\n",
      "\n",
      "\n",
      "'''\n",
      "\n",
      "def solve():\n",
      "    p = eval(input())\n",
      "\n",
      "    a = 2\n",
      "    b = (p-1)/2\n",
      "    if b==2:\n",
      "        b*=2\n",
      "\n",
      "    print(a,b)\n",
      "\n",
      "for _ in range(eval(input())):\n",
      "    solve()\n",
      "\n",
      "\n"
     ]
    }
   ],
   "source": [
    "print(completion)"
   ]
  },
  {
   "cell_type": "code",
   "execution_count": 6,
   "metadata": {},
   "outputs": [
    {
     "name": "stdout",
     "output_type": "stream",
     "text": [
      "\n",
      "import sys\n",
      "from io import StringIO\n",
      "\n",
      "completion = \"\"\"'''input\n",
      "2\n",
      "17\n",
      "5\n",
      "\n",
      "\n",
      "\n",
      "'''\n",
      "\n",
      "def solve():\n",
      "    p = eval(input())\n",
      "\n",
      "    a = 2\n",
      "    b = (p-1)/2\n",
      "    if b==2:\n",
      "        b*=2\n",
      "\n",
      "    print(a,b)\n",
      "\n",
      "for _ in range(eval(input())):\n",
      "    solve()\n",
      "\n",
      "\"\"\"\n",
      "\n",
      "def ENTRY_POINT(input_str):\n",
      "    stdin = StringIO(input_str)\n",
      "    stdout = StringIO()\n",
      "\n",
      "    sys.stdin = stdin\n",
      "    sys.stdout = stdout\n",
      "    exec(\n",
      "        completion,\n",
      "        {\n",
      "            __name__: \"__main__\",\n",
      "            \"sys\": sys,\n",
      "            \"stdin\": sys.stdin,\n",
      "            \"stdout\": sys.stdout,\n",
      "        },\n",
      "    )\n",
      "    sys.stdin = sys.__stdin__\n",
      "    sys.stdout = sys.__stdout__\n",
      "\n",
      "    return stdout.getvalue()\n",
      "\n"
     ]
    }
   ],
   "source": [
    "print(candidate)"
   ]
  },
  {
   "cell_type": "code",
   "execution_count": 7,
   "metadata": {},
   "outputs": [],
   "source": [
    "import sys\n",
    "from io import StringIO\n",
    "sys.stdin = StringIO('2\\n17\\n5\\n')\n",
    "stdout = StringIO()\n",
    "sys.stdout = stdout\n",
    "exec(\n",
    "    candidate,\n",
    "    {\n",
    "        __name__: \"__main__\",\n",
    "        \"sys\": sys,\n",
    "        \"stdin\": sys.stdin,\n",
    "        \"stdout\": sys.stdout,\n",
    "    },\n",
    "    )\n",
    "\n",
    "print(stdout.getvalue())"
   ]
  },
  {
   "cell_type": "code",
   "execution_count": 8,
   "metadata": {},
   "outputs": [],
   "source": [
    "def solve(c):\n",
    "    p = eval(c)\n",
    "\n",
    "    a = 2\n",
    "    b = (p-1)/2\n",
    "    if b==2:\n",
    "        b*=2\n",
    "\n",
    "    print(a)\n",
    "\n",
    "# for _ in range(eval(input())):\n",
    "#     solve()"
   ]
  },
  {
   "cell_type": "code",
   "execution_count": 9,
   "metadata": {},
   "outputs": [],
   "source": [
    "solve('1')"
   ]
  },
  {
   "cell_type": "code",
   "execution_count": 22,
   "metadata": {},
   "outputs": [],
   "source": [
    "print(1)"
   ]
  },
  {
   "cell_type": "code",
   "execution_count": null,
   "metadata": {},
   "outputs": [],
   "source": []
  }
 ],
 "metadata": {
  "kernelspec": {
   "display_name": "Python 3",
   "language": "python",
   "name": "python3"
  },
  "language_info": {
   "codemirror_mode": {
    "name": "ipython",
    "version": 3
   },
   "file_extension": ".py",
   "mimetype": "text/x-python",
   "name": "python",
   "nbconvert_exporter": "python",
   "pygments_lexer": "ipython3",
   "version": "3.10.12"
  },
  "orig_nbformat": 4
 },
 "nbformat": 4,
 "nbformat_minor": 2
}
